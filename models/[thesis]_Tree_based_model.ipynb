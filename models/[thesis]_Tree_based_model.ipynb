{
  "nbformat": 4,
  "nbformat_minor": 0,
  "metadata": {
    "colab": {
      "name": "[thesis] Tree-based model.ipynb",
      "provenance": [],
      "collapsed_sections": [
        "j4BBO9b_e8Xx"
      ]
    },
    "kernelspec": {
      "display_name": "Python 3",
      "name": "python3"
    },
    "language_info": {
      "name": "python"
    },
    "accelerator": "GPU"
  },
  "cells": [
    {
      "cell_type": "code",
      "metadata": {
        "id": "8gV6pZFiO-W4"
      },
      "source": [
        "import os\n",
        "import numpy as np\n",
        "import pandas as pd\n",
        "from tqdm.auto import tqdm\n",
        "import matplotlib.pyplot as plt\n",
        "import plotly.express as pl"
      ],
      "execution_count": 1,
      "outputs": []
    },
    {
      "cell_type": "markdown",
      "metadata": {
        "id": "j4BBO9b_e8Xx"
      },
      "source": [
        "# Example"
      ]
    },
    {
      "cell_type": "code",
      "metadata": {
        "id": "n_-DBkOSdmS_"
      },
      "source": [
        "import numpy as np \n",
        "import matplotlib.pyplot as plt\n",
        "from sklearn.ensemble import RandomForestRegressor\n",
        "from sklearn.model_selection import train_test_split\n",
        "from sklearn.multioutput import MultiOutputRegressor"
      ],
      "execution_count": 2,
      "outputs": []
    },
    {
      "cell_type": "code",
      "metadata": {
        "id": "5YLKCtVjPGFW"
      },
      "source": [
        "rng = np.random.RandomState(1)\n",
        "X = np.sort(100 * rng.rand(600, 1) - 100, axis = 0)\n",
        "y = np.array([np.pi * np.sin(X).ravel(), np.pi * np.cos(X).ravel()]).T\n",
        "y += (0.5 - rng.rand(*y.shape))"
      ],
      "execution_count": 3,
      "outputs": []
    },
    {
      "cell_type": "code",
      "metadata": {
        "colab": {
          "base_uri": "https://localhost:8080/"
        },
        "id": "RK-QHIfbPqUs",
        "outputId": "ee8a9f54-2329-48c0-a72b-0640d28bca3e"
      },
      "source": [
        "print(\"X shape:\", X.shape)\n",
        "print(\"y shape:\", y.shape)"
      ],
      "execution_count": null,
      "outputs": [
        {
          "name": "stdout",
          "output_type": "stream",
          "text": [
            "X shape: (600, 1)\n",
            "y shape: (600, 2)\n"
          ]
        }
      ]
    },
    {
      "cell_type": "code",
      "metadata": {
        "id": "vkdSxbgTPrpo"
      },
      "source": [
        "X_train, X_test, y_train, y_test =  train_test_split(\n",
        "    X, y, train_size = 400, test_size = 200, random_state = 4)"
      ],
      "execution_count": null,
      "outputs": []
    },
    {
      "cell_type": "code",
      "metadata": {
        "colab": {
          "base_uri": "https://localhost:8080/"
        },
        "id": "fImSzE-NQmdL",
        "outputId": "deb9769e-b339-4d4b-efd1-16c655aadb62"
      },
      "source": [
        "max_depth = 30\n",
        "reg_multioutput_rf = MultiOutputRegressor(RandomForestRegressor(n_estimators=100, \n",
        "                                                                max_depth = max_depth,\n",
        "                                                                random_state = 0))\n",
        "reg_multioutput_rf.fit(X_train, y_train)"
      ],
      "execution_count": null,
      "outputs": [
        {
          "data": {
            "text/plain": [
              "MultiOutputRegressor(estimator=RandomForestRegressor(bootstrap=True,\n",
              "                                                     ccp_alpha=0.0,\n",
              "                                                     criterion='mse',\n",
              "                                                     max_depth=30,\n",
              "                                                     max_features='auto',\n",
              "                                                     max_leaf_nodes=None,\n",
              "                                                     max_samples=None,\n",
              "                                                     min_impurity_decrease=0.0,\n",
              "                                                     min_impurity_split=None,\n",
              "                                                     min_samples_leaf=1,\n",
              "                                                     min_samples_split=2,\n",
              "                                                     min_weight_fraction_leaf=0.0,\n",
              "                                                     n_estimators=100,\n",
              "                                                     n_jobs=None,\n",
              "                                                     oob_score=False,\n",
              "                                                     random_state=0, verbose=0,\n",
              "                                                     warm_start=False),\n",
              "                     n_jobs=None)"
            ]
          },
          "execution_count": 18,
          "metadata": {},
          "output_type": "execute_result"
        }
      ]
    },
    {
      "cell_type": "code",
      "metadata": {
        "colab": {
          "base_uri": "https://localhost:8080/"
        },
        "id": "VdA3CTYmQ5af",
        "outputId": "e955dfb5-69ef-4bec-ea28-b0a1aa9da5c8"
      },
      "source": [
        "reg_rf = RandomForestRegressor(n_estimators=100, max_depth=max_depth,\n",
        "                                random_state=2)\n",
        "reg_rf.fit(X_train, y_train)"
      ],
      "execution_count": null,
      "outputs": [
        {
          "data": {
            "text/plain": [
              "RandomForestRegressor(bootstrap=True, ccp_alpha=0.0, criterion='mse',\n",
              "                      max_depth=30, max_features='auto', max_leaf_nodes=None,\n",
              "                      max_samples=None, min_impurity_decrease=0.0,\n",
              "                      min_impurity_split=None, min_samples_leaf=1,\n",
              "                      min_samples_split=2, min_weight_fraction_leaf=0.0,\n",
              "                      n_estimators=100, n_jobs=None, oob_score=False,\n",
              "                      random_state=2, verbose=0, warm_start=False)"
            ]
          },
          "execution_count": 19,
          "metadata": {},
          "output_type": "execute_result"
        }
      ]
    },
    {
      "cell_type": "code",
      "metadata": {
        "id": "Cd6FkOfIRM5c"
      },
      "source": [
        "# Predict on new data\n",
        "y_multirf = reg_multioutput_rf.predict(X_test)\n",
        "y_rf = reg_rf.predict(X_test)"
      ],
      "execution_count": null,
      "outputs": []
    },
    {
      "cell_type": "code",
      "metadata": {
        "colab": {
          "base_uri": "https://localhost:8080/",
          "height": 387
        },
        "id": "bh8AzhWZRXmw",
        "outputId": "c0209ba4-c53a-40e8-8a3e-4c1d4eb9465f"
      },
      "source": [
        "# Plot the results\n",
        "plt.figure()\n",
        "s = 50\n",
        "a = 0.4\n",
        "plt.scatter(y_test[:, 0], y_test[:, 1], edgecolor='k',\n",
        "            c=\"navy\", s=s, marker=\"s\", alpha=a, label=\"Data\")\n",
        "plt.scatter(y_multirf[:, 0], y_multirf[:, 1], edgecolor='k',\n",
        "            c=\"cornflowerblue\", s=s, alpha=a,\n",
        "            label=\"Multi RF score=%.2f\" % reg_multioutput_rf.score(X_test, y_test))\n",
        "plt.scatter(y_rf[:, 0], y_rf[:, 1], edgecolor='k',\n",
        "            c=\"c\", s=s, marker=\"^\", alpha=a,\n",
        "            label=\"RF score=%.2f\" % reg_rf.score(X_test, y_test))\n",
        "plt.xlim([-6, 6])\n",
        "plt.ylim([-6, 6])\n",
        "plt.xlabel(\"target 1\")\n",
        "plt.ylabel(\"target 2\")\n",
        "plt.title(\"Comparing random forests and the multi-output meta estimator\")\n",
        "plt.legend()\n",
        "plt.show()"
      ],
      "execution_count": null,
      "outputs": [
        {
          "name": "stderr",
          "output_type": "stream",
          "text": [
            "/usr/local/lib/python3.7/dist-packages/sklearn/base.py:434: FutureWarning:\n",
            "\n",
            "The default value of multioutput (not exposed in score method) will change from 'variance_weighted' to 'uniform_average' in 0.23 to keep consistent with 'metrics.r2_score'. To specify the default value manually and avoid the warning, please either call 'metrics.r2_score' directly or make a custom scorer with 'metrics.make_scorer' (the built-in scorer 'r2' uses multioutput='uniform_average').\n",
            "\n"
          ]
        },
        {
          "data": {
            "image/png": "[encoded data removed]",
            "text/plain": [
              "<Figure size 432x288 with 1 Axes>"
            ]
          },
          "metadata": {},
          "output_type": "display_data"
        }
      ]
    },
    {
      "cell_type": "markdown",
      "metadata": {
        "id": "RaDgJ0Dg6I7G"
      },
      "source": [
        "# Dataset"
      ]
    },
    {
      "cell_type": "code",
      "metadata": {
        "colab": {
          "base_uri": "https://localhost:8080/"
        },
        "id": "5P8sA76gRZgJ",
        "outputId": "d34d2352-0a99-4460-b306-3f591300dd74"
      },
      "source": [
        "!git clone https://github.com/romrawinjp/mn-sim.git"
      ],
      "execution_count": 2,
      "outputs": [
        {
          "output_type": "stream",
          "name": "stdout",
          "text": [
            "Cloning into 'mn-sim'...\n",
            "remote: Enumerating objects: 53, done.\u001b[K\n",
            "remote: Counting objects: 100% (53/53), done.\u001b[K\n",
            "remote: Compressing objects: 100% (50/50), done.\u001b[K\n",
            "remote: Total 53 (delta 7), reused 0 (delta 0), pack-reused 0\u001b[K\n",
            "Unpacking objects: 100% (53/53), done.\n"
          ]
        }
      ]
    },
    {
      "cell_type": "code",
      "metadata": {
        "id": "4zw6LzlwuDo2"
      },
      "source": [
        "mn_type = \"tapered-cone\"\n",
        "raw_data = np.load(\"/content/mn-sim/\"+mn_type+\"/\"+mn_type+\"-fixed.npz\")\n",
        "point_raw, young_raw, force_raw, y_raw = raw_data[\"point\"], raw_data[\"young\"], raw_data[\"force\"], raw_data[\"y\"]"
      ],
      "execution_count": 4,
      "outputs": []
    },
    {
      "cell_type": "code",
      "metadata": {
        "id": "szM2_2lz6lnL",
        "colab": {
          "base_uri": "https://localhost:8080/"
        },
        "outputId": "e7dba063-6ca3-438c-ab56-cb4d2cf63561"
      },
      "source": [
        "test_size = 0.1\n",
        "sample = point_raw.shape[0]\n",
        "n = round(sample * test_size)\n",
        "print(n)"
      ],
      "execution_count": 11,
      "outputs": [
        {
          "output_type": "stream",
          "name": "stdout",
          "text": [
            "45\n"
          ]
        }
      ]
    },
    {
      "cell_type": "code",
      "metadata": {
        "id": "NINdMzaB64gv"
      },
      "source": [
        "point_train = point_train.reshape(point_train.shape[0], -1)\n",
        "point_test = point_test.reshape(point_test.shape[0], -1)"
      ],
      "execution_count": null,
      "outputs": []
    },
    {
      "cell_type": "code",
      "metadata": {
        "id": "nVIK9vrr7BHc"
      },
      "source": [
        "X_train = np.concatenate((point_train, young_train, force_train), axis = 1)\n",
        "X_test = np.concatenate((point_test, young_test, force_test), axis = 1)"
      ],
      "execution_count": null,
      "outputs": []
    },
    {
      "cell_type": "code",
      "metadata": {
        "id": "i_X-W7DT8B8L"
      },
      "source": [
        "from sklearn.ensemble import RandomForestRegressor\n",
        "from sklearn.multioutput import MultiOutputRegressor"
      ],
      "execution_count": null,
      "outputs": []
    },
    {
      "cell_type": "code",
      "metadata": {
        "colab": {
          "base_uri": "https://localhost:8080/"
        },
        "id": "nWC5_d888NfH",
        "outputId": "69af4bc1-8718-49a7-e916-961ead5b0e9b"
      },
      "source": [
        "reg_multioutput_rf = MultiOutputRegressor(RandomForestRegressor())\n",
        "reg_multioutput_rf.fit(X_train, y_train)"
      ],
      "execution_count": null,
      "outputs": [
        {
          "output_type": "execute_result",
          "data": {
            "text/plain": [
              "MultiOutputRegressor(estimator=RandomForestRegressor(bootstrap=True,\n",
              "                                                     ccp_alpha=0.0,\n",
              "                                                     criterion='mse',\n",
              "                                                     max_depth=None,\n",
              "                                                     max_features='auto',\n",
              "                                                     max_leaf_nodes=None,\n",
              "                                                     max_samples=None,\n",
              "                                                     min_impurity_decrease=0.0,\n",
              "                                                     min_impurity_split=None,\n",
              "                                                     min_samples_leaf=1,\n",
              "                                                     min_samples_split=2,\n",
              "                                                     min_weight_fraction_leaf=0.0,\n",
              "                                                     n_estimators=100,\n",
              "                                                     n_jobs=None,\n",
              "                                                     oob_score=False,\n",
              "                                                     random_state=None,\n",
              "                                                     verbose=0,\n",
              "                                                     warm_start=False),\n",
              "                     n_jobs=None)"
            ]
          },
          "metadata": {},
          "execution_count": 25
        }
      ]
    },
    {
      "cell_type": "code",
      "metadata": {
        "id": "s22-ib4IUudB"
      },
      "source": [
        "from sklearn.metrics import mean_squared_error"
      ],
      "execution_count": null,
      "outputs": []
    },
    {
      "cell_type": "code",
      "metadata": {
        "colab": {
          "base_uri": "https://localhost:8080/"
        },
        "id": "8hPkXcoM8XA_",
        "outputId": "34865f74-a776-4632-cd23-c4a65c09942b"
      },
      "source": [
        "y_pred_rf = reg_multioutput_rf.predict(X_test)\n",
        "print(\"Log mean: \", np.log10(mean_squared_error(y_pred_rf, y_test)))"
      ],
      "execution_count": null,
      "outputs": [
        {
          "name": "stdout",
          "output_type": "stream",
          "text": [
            "Log mean:  -7.74152796017273\n"
          ]
        }
      ]
    },
    {
      "cell_type": "code",
      "metadata": {
        "colab": {
          "base_uri": "https://localhost:8080/",
          "height": 465
        },
        "id": "Mftqd7_6VB7J",
        "outputId": "1b07f194-a53e-44a2-de62-55f8625c6890"
      },
      "source": [
        "plt.hist(y_test)"
      ],
      "execution_count": null,
      "outputs": [
        {
          "data": {
            "text/plain": [
              "(array([[44.,  2.,  6., ...,  0.,  0.,  0.],\n",
              "        [49.,  0.,  0., ...,  0.,  0.,  0.],\n",
              "        [55.,  0.,  0., ...,  0.,  0.,  0.],\n",
              "        ...,\n",
              "        [55.,  0.,  0., ...,  0.,  0.,  0.],\n",
              "        [55.,  0.,  0., ...,  0.,  0.,  0.],\n",
              "        [55.,  0.,  0., ...,  0.,  0.,  0.]]),\n",
              " array([0.        , 0.04456714, 0.08913428, 0.13370143, 0.17826857,\n",
              "        0.22283571, 0.26740285, 0.31197   , 0.35653714, 0.40110428,\n",
              "        0.44567142]),\n",
              " <a list of 1024 Lists of Patches objects>)"
            ]
          },
          "execution_count": 13,
          "metadata": {},
          "output_type": "execute_result"
        },
        {
          "data": {
            "image/png": "[encoded data removed]",
            "text/plain": [
              "<Figure size 432x288 with 1 Axes>"
            ]
          },
          "metadata": {},
          "output_type": "display_data"
        }
      ]
    },
    {
      "cell_type": "code",
      "metadata": {
        "colab": {
          "base_uri": "https://localhost:8080/"
        },
        "id": "pVPUOrAhXQK2",
        "outputId": "608ea791-4a40-483d-88da-63002ebca40c"
      },
      "source": [
        "y_test[7]"
      ],
      "execution_count": null,
      "outputs": [
        {
          "data": {
            "text/plain": [
              "array([2.68061344e-02, 2.77642407e-02, 1.28433259e-04, ...,\n",
              "       9.35449396e-05, 1.99615261e-05, 7.29026397e-04])"
            ]
          },
          "execution_count": 39,
          "metadata": {},
          "output_type": "execute_result"
        }
      ]
    },
    {
      "cell_type": "code",
      "metadata": {
        "colab": {
          "base_uri": "https://localhost:8080/"
        },
        "id": "tJheoBJwXMC8",
        "outputId": "1ff8d4ca-5544-45e3-d57d-33b2cfdbda57"
      },
      "source": [
        "y_pred_rf[7]"
      ],
      "execution_count": null,
      "outputs": [
        {
          "data": {
            "text/plain": [
              "array([2.68061344e-02, 2.77642407e-02, 3.07256077e-04, ...,\n",
              "       1.81590470e-04, 1.99055443e-05, 7.32705855e-04])"
            ]
          },
          "execution_count": 38,
          "metadata": {},
          "output_type": "execute_result"
        }
      ]
    },
    {
      "cell_type": "code",
      "metadata": {
        "colab": {
          "base_uri": "https://localhost:8080/",
          "height": 465
        },
        "id": "NuTG4FvkU-pD",
        "outputId": "e940c788-bcbf-422b-be6b-7f6f4aaa1686"
      },
      "source": [
        "plt.hist(y_pred_rf)"
      ],
      "execution_count": null,
      "outputs": [
        {
          "data": {
            "text/plain": [
              "(array([[44.,  2.,  6., ...,  0.,  0.,  0.],\n",
              "        [49.,  0.,  0., ...,  0.,  0.,  0.],\n",
              "        [55.,  0.,  0., ...,  0.,  0.,  0.],\n",
              "        ...,\n",
              "        [55.,  0.,  0., ...,  0.,  0.,  0.],\n",
              "        [55.,  0.,  0., ...,  0.,  0.,  0.],\n",
              "        [55.,  0.,  0., ...,  0.,  0.,  0.]]),\n",
              " array([0.        , 0.04456714, 0.08913428, 0.13370143, 0.17826857,\n",
              "        0.22283571, 0.26740285, 0.31197   , 0.35653714, 0.40110428,\n",
              "        0.44567142]),\n",
              " <a list of 1024 Lists of Patches objects>)"
            ]
          },
          "execution_count": 19,
          "metadata": {},
          "output_type": "execute_result"
        },
        {
          "data": {
            "image/png": "[encoded data removed]",
            "text/plain": [
              "<Figure size 432x288 with 1 Axes>"
            ]
          },
          "metadata": {},
          "output_type": "display_data"
        }
      ]
    },
    {
      "cell_type": "code",
      "metadata": {
        "id": "7IBc9EmEU_Ic"
      },
      "source": [
        "from lightgbm import LGBMRegressor"
      ],
      "execution_count": null,
      "outputs": []
    },
    {
      "cell_type": "code",
      "metadata": {
        "id": "73hQgP2BZLRn"
      },
      "source": [
        "lgbm = MultiOutputRegressor(LGBMRegressor())"
      ],
      "execution_count": null,
      "outputs": []
    },
    {
      "cell_type": "code",
      "metadata": {
        "colab": {
          "base_uri": "https://localhost:8080/"
        },
        "id": "KdJE6ypFZUKJ",
        "outputId": "17126ae9-0b82-4938-894b-e067e4b43858"
      },
      "source": [
        "lgbm.fit(X_train, y_train)"
      ],
      "execution_count": null,
      "outputs": [
        {
          "output_type": "execute_result",
          "data": {
            "text/plain": [
              "MultiOutputRegressor(estimator=LGBMRegressor(boosting_type='gbdt',\n",
              "                                             class_weight=None,\n",
              "                                             colsample_bytree=1.0,\n",
              "                                             importance_type='split',\n",
              "                                             learning_rate=0.1, max_depth=-1,\n",
              "                                             min_child_samples=20,\n",
              "                                             min_child_weight=0.001,\n",
              "                                             min_split_gain=0.0,\n",
              "                                             n_estimators=100, n_jobs=-1,\n",
              "                                             num_leaves=31, objective=None,\n",
              "                                             random_state=None, reg_alpha=0.0,\n",
              "                                             reg_lambda=0.0, silent=True,\n",
              "                                             subsample=1.0,\n",
              "                                             subsample_for_bin=200000,\n",
              "                                             subsample_freq=0),\n",
              "                     n_jobs=None)"
            ]
          },
          "metadata": {},
          "execution_count": 16
        }
      ]
    },
    {
      "cell_type": "code",
      "metadata": {
        "id": "0IPvWcp_xjzm",
        "colab": {
          "base_uri": "https://localhost:8080/"
        },
        "outputId": "a2cffc36-6b28-45c8-ac28-91fb4b318f0d"
      },
      "source": [
        "y_pred_lgbm = lgbm.predict(X_test)\n",
        "print(\"MSE: \", mean_squared_error(y_pred_lgbm, y_test))"
      ],
      "execution_count": null,
      "outputs": [
        {
          "output_type": "stream",
          "name": "stdout",
          "text": [
            "MSE:  1.9141502162385474e-13\n"
          ]
        }
      ]
    },
    {
      "cell_type": "code",
      "metadata": {
        "colab": {
          "base_uri": "https://localhost:8080/"
        },
        "id": "Rk6fixZaPOcS",
        "outputId": "f62c4c0f-21c3-4c1d-d860-58106912aa7c"
      },
      "source": [
        "import joblib\n",
        "# save model\n",
        "joblib.dump(lgbm, 'lgbm.pkl')"
      ],
      "execution_count": null,
      "outputs": [
        {
          "output_type": "execute_result",
          "data": {
            "text/plain": [
              "['lgbm.pkl']"
            ]
          },
          "metadata": {},
          "execution_count": 24
        }
      ]
    },
    {
      "cell_type": "code",
      "metadata": {
        "id": "OEXmMekmPQmO"
      },
      "source": [
        "# load model\n",
        "gbm_pickle = joblib.load('lgbm.pkl')"
      ],
      "execution_count": null,
      "outputs": []
    },
    {
      "cell_type": "markdown",
      "metadata": {
        "id": "VJHWmt_AhVam"
      },
      "source": [
        "# Test Dataset"
      ]
    },
    {
      "cell_type": "code",
      "metadata": {
        "id": "Uq-HzqcqhXKo"
      },
      "source": [
        ""
      ],
      "execution_count": null,
      "outputs": []
    }
  ]
}